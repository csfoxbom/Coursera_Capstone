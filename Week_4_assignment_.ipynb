{
  "nbformat": 4,
  "nbformat_minor": 0,
  "metadata": {
    "colab": {
      "name": "Week 4 assignment.",
      "provenance": [],
      "authorship_tag": "ABX9TyPGE3GCDAPpadBBw//1hf7r",
      "include_colab_link": true
    },
    "kernelspec": {
      "name": "python3",
      "display_name": "Python 3"
    },
    "language_info": {
      "name": "python"
    }
  },
  "cells": [
    {
      "cell_type": "markdown",
      "metadata": {
        "id": "view-in-github",
        "colab_type": "text"
      },
      "source": [
        "<a href=\"https://colab.research.google.com/github/csfoxbom/Coursera_Capstone/blob/master/Week_4_assignment_.ipynb\" target=\"_parent\"><img src=\"https://colab.research.google.com/assets/colab-badge.svg\" alt=\"Open In Colab\"/></a>"
      ]
    },
    {
      "cell_type": "markdown",
      "metadata": {
        "id": "k-5N3MLOtq9f"
      },
      "source": [
        "# Retired in Bangkok"
      ]
    },
    {
      "cell_type": "markdown",
      "metadata": {
        "id": "Vx1rSwYsZYEL"
      },
      "source": [
        "Thailand remains a popular world location for retirees – the beaches, climate, access to good medical care and great food."
      ]
    },
    {
      "cell_type": "markdown",
      "metadata": {
        "id": "--mThe5nZtqc"
      },
      "source": [
        "## Objective\n",
        "\n",
        "*   Define a problem for your capstone project.\n",
        "*   Finding the data that you will use for the capstone project.\n",
        "\n",
        "\n",
        "\n"
      ]
    },
    {
      "cell_type": "markdown",
      "metadata": {
        "id": "o5oXHoEfavqU"
      },
      "source": [
        "## Background\n",
        "\n",
        "Thailand is popular across the globe for its scenic beauty. It has some of the most beautiful landscapes that are pleasing to the eyes. Together with it, Thailand also has an atmosphere of calmness in its serene beaches. Plus, several other reasons make it the ideal retirement destination for seniors.<br>\n",
        "Thailand's capital city is **Bangkok**, with hustle and bustle, primarily due to its shopping facilities, street food vendors and vibrant nightlife. The data science will define the group of area and describe their charactoristic to help senior decide where which area is the best suite for them. <br><br>\n",
        "\n",
        "\n",
        "\n",
        "<img width=\"350px\" src=\"https://upload.wikimedia.org/wikipedia/commons/thumb/d/d2/Khet_Bangkok.svg/1131px-Khet_Bangkok.svg.png\" /><br>\n",
        "<small>Map of Bangkok</small>\n",
        "\n",
        "\n",
        "\n"
      ]
    },
    {
      "cell_type": "markdown",
      "metadata": {
        "id": "SkLgTIyQbenX"
      },
      "source": [
        "## How data solve propblem.\n",
        "\n",
        "Primary data source of this project was taken from Fourquare API. Details of Bangkok from https://en.wikipedia.org/wiki/List_of_districts_of_Bangkok . The data science method is clustering, to seperate area by similarity charactor."
      ]
    },
    {
      "cell_type": "code",
      "metadata": {
        "id": "sXQ6UWAmtpQF"
      },
      "source": [
        ""
      ],
      "execution_count": null,
      "outputs": []
    },
    {
      "cell_type": "code",
      "metadata": {
        "id": "aAn_uuJ6tzCU"
      },
      "source": [
        ""
      ],
      "execution_count": null,
      "outputs": []
    },
    {
      "cell_type": "code",
      "metadata": {
        "id": "juYVQMz-tvhk"
      },
      "source": [
        ""
      ],
      "execution_count": null,
      "outputs": []
    }
  ]
}