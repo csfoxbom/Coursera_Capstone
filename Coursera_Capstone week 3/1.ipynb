{
  "nbformat": 4,
  "nbformat_minor": 0,
  "metadata": {
    "colab": {
      "name": "Coursera_Capstone",
      "provenance": [],
      "collapsed_sections": [],
      "authorship_tag": "ABX9TyMEOjwM0tLPq35caUPHAC51",
      "include_colab_link": true
    },
    "kernelspec": {
      "name": "python3",
      "display_name": "Python 3"
    }
  },
  "cells": [
    {
      "cell_type": "markdown",
      "metadata": {
        "id": "view-in-github",
        "colab_type": "text"
      },
      "source": [
        "<a href=\"https://colab.research.google.com/github/csfoxbom/Coursera_Capstone/blob/master/Coursera_Capstone%20week%203/1.ipynb\" target=\"_parent\"><img src=\"https://colab.research.google.com/assets/colab-badge.svg\" alt=\"Open In Colab\"/></a>"
      ]
    },
    {
      "cell_type": "markdown",
      "metadata": {
        "id": "Qbo814rEhiw-"
      },
      "source": [
        "Import some library"
      ]
    },
    {
      "cell_type": "code",
      "metadata": {
        "id": "gLkGn-DhnF4h"
      },
      "source": [
        "import numpy as np\r\n",
        "import pandas as pd\r\n",
        "from bs4 import BeautifulSoup\r\n",
        "import requests\r\n"
      ],
      "execution_count": 2,
      "outputs": []
    },
    {
      "cell_type": "markdown",
      "metadata": {
        "id": "_CHGdUHMpTby"
      },
      "source": [
        "<h3>Get the soup from wikipedia website </h3>\r\n"
      ]
    },
    {
      "cell_type": "code",
      "metadata": {
        "id": "cND5ikyjnLYC"
      },
      "source": [
        "url = 'https://en.wikipedia.org/wiki/List_of_postal_codes_of_Canada:_M'\r\n",
        "raw = requests.get(url)\r\n",
        "soup = BeautifulSoup(raw.content,'html.parser')"
      ],
      "execution_count": 70,
      "outputs": []
    },
    {
      "cell_type": "markdown",
      "metadata": {
        "id": "GxmlkuDxgnlW"
      },
      "source": [
        "<h3>Get text from table as list using 'find_all' and for loop. Insert them into DataFrame.</h3>"
      ]
    },
    {
      "cell_type": "code",
      "metadata": {
        "id": "495TztqNnQKJ",
        "colab": {
          "base_uri": "https://localhost:8080/"
        },
        "outputId": "b69108f1-dcc6-4f59-c756-efcba50fd1fc"
      },
      "source": [
        "# make column\r\n",
        "column = []\r\n",
        "for col in soup.find_all('table')[0].find_all('th'):\r\n",
        "  column.append(col.text[:-1])\r\n",
        "print(column)\r\n",
        "\r\n",
        "# make DataFrame\r\n",
        "row_index = 0\r\n",
        "max_row = len(soup.find_all('table')[0].find_all('tr'))\r\n",
        "\r\n",
        "postcode = []\r\n",
        "borough = []\r\n",
        "neighbourhood = []\r\n",
        "\r\n",
        "for i,row in enumerate(soup.find_all('table')[0].find_all('tr')):\r\n",
        "  if row_index < max_row and i>0:\r\n",
        "    #print(row.find_all('td')[0].text)\r\n",
        "    postcode.append(row.find_all('td')[0].text[:-1])\r\n",
        "    borough.append(row.find_all('td')[1].text[:-1])\r\n",
        "    neighbourhood.append(row.find_all('td')[2].text[:-1])\r\n",
        "\r\n",
        "    row_index += 1\r\n",
        "    \r\n",
        "\r\n",
        "\r\n"
      ],
      "execution_count": 199,
      "outputs": [
        {
          "output_type": "stream",
          "text": [
            "<th>Postal Code\n",
            "</th>\n",
            "<th>Borough\n",
            "</th>\n",
            "<th>Neighbourhood\n",
            "</th>\n",
            "['Postal Code', 'Borough', 'Neighbourhood']\n"
          ],
          "name": "stdout"
        }
      ]
    },
    {
      "cell_type": "code",
      "metadata": {
        "id": "bZdzPVVBEemc"
      },
      "source": [
        "# built in Pandas function make my life easier\r\n",
        "\r\n",
        "table = soup.find_all('table')\r\n",
        "df2 = pd.read_html(str(table))[0]\r\n"
      ],
      "execution_count": 211,
      "outputs": []
    },
    {
      "cell_type": "markdown",
      "metadata": {
        "id": "S3zQqBn9hIY8"
      },
      "source": [
        "<h3>Filter to find 'Not assign' Borough</h3>"
      ]
    },
    {
      "cell_type": "code",
      "metadata": {
        "id": "7dCbTcPQhQQw"
      },
      "source": [
        "# try to set columns in DataFrame then error not display data    \r\n",
        "#df = pd.DataFrame({column[0]:postcode,column[1]:borough,column[2]:neighbourhood})\r\n",
        "df = pd.DataFrame(list(zip(postcode,borough,neighbourhood)),columns=column)\r\n",
        "df = df[df['Borough']!='Not assigned']\r\n",
        "df.reset_index(drop=True,inplace=True)"
      ],
      "execution_count": 212,
      "outputs": []
    },
    {
      "cell_type": "markdown",
      "metadata": {
        "id": "SIaD5n-NhU5_"
      },
      "source": [
        "<h3>Filter to find 'Not assign' Neighbourhood and make them same to Borough</h3>"
      ]
    },
    {
      "cell_type": "code",
      "metadata": {
        "id": "ZqqXUXKy0FBK"
      },
      "source": [
        "# make 'Not assign' Neighbourhood same Borough\r\n",
        "for i in range(0,df.shape[0]):\r\n",
        "    if df['Neighbourhood'][i]== 'Not assigned':\r\n",
        "      df['Neighbourhood'][i]=df['Borough'][i]\r\n",
        "      print(df['Neighbourhood'][i])"
      ],
      "execution_count": 206,
      "outputs": []
    },
    {
      "cell_type": "code",
      "metadata": {
        "colab": {
          "base_uri": "https://localhost:8080/"
        },
        "id": "eajybvY810pj",
        "outputId": "3503655e-27f8-41d8-fd2a-5c76e4f483f5"
      },
      "source": [
        "df.shape"
      ],
      "execution_count": 205,
      "outputs": [
        {
          "output_type": "execute_result",
          "data": {
            "text/plain": [
              "(103, 3)"
            ]
          },
          "metadata": {
            "tags": []
          },
          "execution_count": 205
        }
      ]
    },
    {
      "cell_type": "code",
      "metadata": {
        "id": "uOZcsBH5fx8C"
      },
      "source": [
        ""
      ],
      "execution_count": null,
      "outputs": []
    }
  ]
}