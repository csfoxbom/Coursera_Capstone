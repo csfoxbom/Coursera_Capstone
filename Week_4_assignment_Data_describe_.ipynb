{
  "nbformat": 4,
  "nbformat_minor": 0,
  "metadata": {
    "colab": {
      "name": "Week 4 assignment : Data describe.",
      "provenance": [],
      "authorship_tag": "ABX9TyMZ9Yqy2atGXIFA1ClEEyfS",
      "include_colab_link": true
    },
    "kernelspec": {
      "name": "python3",
      "display_name": "Python 3"
    },
    "language_info": {
      "name": "python"
    }
  },
  "cells": [
    {
      "cell_type": "markdown",
      "metadata": {
        "id": "view-in-github",
        "colab_type": "text"
      },
      "source": [
        "<a href=\"https://colab.research.google.com/github/csfoxbom/Coursera_Capstone/blob/master/Week_4_assignment_Data_describe_.ipynb\" target=\"_parent\"><img src=\"https://colab.research.google.com/assets/colab-badge.svg\" alt=\"Open In Colab\"/></a>"
      ]
    },
    {
      "cell_type": "markdown",
      "metadata": {
        "id": "hCSjdfxZqs3R"
      },
      "source": [
        "# Retiring in Bangkok : Data"
      ]
    },
    {
      "cell_type": "markdown",
      "metadata": {
        "id": "N9gIE_91q9SQ"
      },
      "source": [
        "### Data description\n",
        "https://en.wikipedia.org/wiki/List_of_districts_of_Bangkok <br>\n",
        "Wiil use Bangkok districts data to approach clustering.<br>\n",
        "<br>\n",
        "### Foursquare API data\n",
        "Take the venue information data."
      ]
    },
    {
      "cell_type": "code",
      "metadata": {
        "id": "TaCE2cIEr_Y3"
      },
      "source": [
        ""
      ],
      "execution_count": null,
      "outputs": []
    }
  ]
}